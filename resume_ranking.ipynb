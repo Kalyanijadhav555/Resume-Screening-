{
 "cells": [
  {
   "cell_type": "code",
   "execution_count": null,
   "id": "42810e42",
   "metadata": {},
   "outputs": [],
   "source": [
    "# Install dependencies\n",
    "!pip install streamlit PyPDF2 pandas scikit-learn\n",
    "\n",
    "from PyPDF2 import PdfReader\n",
    "import pandas as pd\n",
    "from sklearn.feature_extraction.text import TfidfVectorizer\n",
    "from sklearn.metrics.pairwise import cosine_similarity\n",
    "\n",
    "def extract_text_from_pdf(file_path):\n",
    "    reader = PdfReader(file_path)\n",
    "    text = \"\"\n",
    "    for page in reader.pages:\n",
    "        page_text = page.extract_text()\n",
    "        if page_text:\n",
    "            text += page_text + \"\\n\"\n",
    "    return text\n",
    "\n",
    "def rank_resumes(job_description, resume_texts):\n",
    "    docs = [job_description] + resume_texts\n",
    "    vectorizer = TfidfVectorizer().fit_transform(docs)\n",
    "    vectors = vectorizer.toarray()\n",
    "    scores = cosine_similarity([vectors[0]], vectors[1:]).flatten()\n",
    "    return scores\n",
    "\n",
    "# Example usage\n",
    "job_description = \"Looking for a Python developer with experience in machine learning.\"\n",
    "resume1 = extract_text_from_pdf(\"resume1.pdf\")\n",
    "resume2 = extract_text_from_pdf(\"resume2.pdf\")\n",
    "print(rank_resumes(job_description, [resume1, resume2]))\n"
   ]
  }
 ],
 "metadata": {
  "language_info": {
   "name": "python"
  }
 },
 "nbformat": 4,
 "nbformat_minor": 5
}
